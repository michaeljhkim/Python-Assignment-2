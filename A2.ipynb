{
 "cells": [
  {
   "cell_type": "markdown",
   "metadata": {
    "deletable": false,
    "editable": false,
    "nbgrader": {
     "cell_type": "markdown",
     "checksum": "e63550227b5ec97ebaaa9cd9f3b3e9f0",
     "grade": false,
     "grade_id": "cell-632b39f3a5e2a240",
     "locked": true,
     "schema_version": 3,
     "solution": false,
     "task": false
    }
   },
   "source": [
    "# Assignment 2\n",
    "\n",
    "## Maximum grade: 38 / 29\n",
    "\n",
    "The purpose of this assignment is to:\n",
    "\n",
    "* Practice writing `if`/`else` statements\n",
    "* Work with strings and loops\n",
    "* Become comfortable writing `while` and/or `for` loops\n",
    "* Practice submitting an assignment through A2L, to prepare you in case of issues with JupyterHub\n",
    "\n",
    "\n",
    "You are supposed to download this notebook, embed your answers to the questions in the cells below, and submit it through **Avenue to Learn**. Do not attempt to submit via JupyterHub."
   ]
  },
  {
   "cell_type": "markdown",
   "metadata": {
    "deletable": false,
    "editable": false,
    "nbgrader": {
     "cell_type": "markdown",
     "checksum": "6babc278d644bfd6654b7f165cd7ff92",
     "grade": false,
     "grade_id": "cell-b4d04e85791bfca9",
     "locked": true,
     "schema_version": 3,
     "solution": false,
     "task": false
    }
   },
   "source": [
    "## Practice Question: Counting Vowels (0 points)\n",
    "\n",
    "This question is purely for practice. There are no marks.\n",
    "\n",
    "Write a function `count_vowels` that takes a string as input and returns the number of vowels in the string."
   ]
  },
  {
   "cell_type": "code",
   "execution_count": 1,
   "metadata": {
    "deletable": false,
    "nbgrader": {
     "cell_type": "code",
     "checksum": "62a7c342ba36a845e57e5fd246938f96",
     "grade": false,
     "grade_id": "cell-e24983dea9de2673",
     "locked": false,
     "schema_version": 3,
     "solution": true,
     "task": false
    }
   },
   "outputs": [],
   "source": [
    "def count_vowels(string):\n",
    "    pass\n",
    "\n"
   ]
  },
  {
   "cell_type": "code",
   "execution_count": 2,
   "metadata": {},
   "outputs": [
    {
     "ename": "AssertionError",
     "evalue": "",
     "output_type": "error",
     "traceback": [
      "\u001b[0;31m---------------------------------------------------------------------------\u001b[0m",
      "\u001b[0;31mAssertionError\u001b[0m                            Traceback (most recent call last)",
      "\u001b[1;32m/home/mk/Downloads/A2.ipynb Cell 4\u001b[0m in \u001b[0;36m<cell line: 1>\u001b[0;34m()\u001b[0m\n\u001b[0;32m----> <a href='vscode-notebook-cell:/home/mk/Downloads/A2.ipynb#W3sZmlsZQ%3D%3D?line=0'>1</a>\u001b[0m \u001b[39massert\u001b[39;00m(count_vowels(\u001b[39m\"\u001b[39m\u001b[39mWas it a car or a cat I saw?\u001b[39m\u001b[39m\"\u001b[39m) \u001b[39m==\u001b[39m \u001b[39m9\u001b[39m)\n",
      "\u001b[0;31mAssertionError\u001b[0m: "
     ]
    }
   ],
   "source": [
    "assert(count_vowels(\"Was it a car or a cat I saw?\") == 9)"
   ]
  },
  {
   "cell_type": "code",
   "execution_count": null,
   "metadata": {},
   "outputs": [],
   "source": [
    "assert(count_vowels(\"\") == 0)"
   ]
  },
  {
   "cell_type": "markdown",
   "metadata": {
    "deletable": false,
    "editable": false,
    "nbgrader": {
     "cell_type": "markdown",
     "checksum": "73b8fff9cc6bb0e2a92f71c9cdd79d43",
     "grade": false,
     "grade_id": "cell-35afece3fd51f434",
     "locked": true,
     "schema_version": 3,
     "solution": false,
     "task": false
    }
   },
   "source": [
    "## Question 1: Prohibited Characters (2 points)\n",
    "\n",
    "Very often, a string will have illegal characters in it that need to be removed to be valid. URLs for websites typically remove many punctuation characters, passwords don't typically like spaces, and Unix doesn't handle `/` in file names.\n",
    "\n",
    "Write a function `prohibitedCharacter` that takes in a string and a single character. If that string contains the character, return `False`, otherwise return `True`."
   ]
  },
  {
   "cell_type": "code",
   "execution_count": null,
   "metadata": {
    "deletable": false,
    "nbgrader": {
     "cell_type": "code",
     "checksum": "c8be8d94b6889d46a9458af1ae92c462",
     "grade": false,
     "grade_id": "cell-cad3538080a25f20",
     "locked": false,
     "schema_version": 3,
     "solution": true,
     "task": false
    }
   },
   "outputs": [],
   "source": [
    "def prohibitedCharacter(string, char):\n",
    "    if char in string:\n",
    "        return False\n",
    "    \n",
    "    return True\n",
    "\n",
    "\n"
   ]
  },
  {
   "cell_type": "code",
   "execution_count": null,
   "metadata": {},
   "outputs": [],
   "source": [
    "print(f\"Question #1 - Test Case #1 -\", 'Passed' if prohibitedCharacter('I\\'d like to teach the world to sing!', 'T') else 'Failed')\n",
    "print(f\"Question #1 - Test Case #2 -\", 'Passed' if prohibitedCharacter('www.cas.mcmaster.ca', '$') else 'Failed')\n",
    "print(f\"Question #1 - Test Case #3 -\", 'Passed' if not(prohibitedCharacter('tom_cruise!@mcmaster.ca', '!')) else 'Failed')\n"
   ]
  },
  {
   "cell_type": "code",
   "execution_count": null,
   "metadata": {
    "deletable": false,
    "editable": false,
    "nbgrader": {
     "cell_type": "code",
     "checksum": "53029852557280ce42afdf74c6121166",
     "grade": true,
     "grade_id": "cell-8de5745e226c10d3",
     "locked": true,
     "points": 1,
     "schema_version": 3,
     "solution": false,
     "task": false
    }
   },
   "outputs": [],
   "source": []
  },
  {
   "cell_type": "code",
   "execution_count": null,
   "metadata": {
    "deletable": false,
    "editable": false,
    "nbgrader": {
     "cell_type": "code",
     "checksum": "8e1c319f8fe45acb75c54e144a834b2e",
     "grade": true,
     "grade_id": "cell-12328171e21dd5a0",
     "locked": true,
     "points": 1,
     "schema_version": 3,
     "solution": false,
     "task": false
    }
   },
   "outputs": [],
   "source": []
  },
  {
   "cell_type": "markdown",
   "metadata": {
    "deletable": false,
    "editable": false,
    "nbgrader": {
     "cell_type": "markdown",
     "checksum": "c484c93157b839beefe29b7c66604be1",
     "grade": false,
     "grade_id": "cell-ab209ff41811f984",
     "locked": true,
     "schema_version": 3,
     "solution": false,
     "task": false
    }
   },
   "source": [
    "## Question 2: Sum of a Series (4 points)\n",
    "\n",
    "In math, you will be seeing something called \"Sigma Notation\". It is a way of writing sums of numbers in a way that is easier to read.\n",
    "\n",
    "For example:\n",
    "\n",
    "$$ 1^2 + 2^2 + 3^2 + 4^2 = \\Sigma_{i=1}^{4} i^2 $$\n",
    "\n",
    "This notation is really helpful because it is very close to the instructions of the `for` loop. \n",
    "\n",
    "So let's write a function `onethird` that takes in a number `n` and performs the following calculation:\n",
    "\n",
    "$$ \\frac{\\Sigma_{i=1}^{n} i^2}{n^3} = \\frac{1^2 + 2^2 + ... + n^2}{n^3} $$\n",
    "\n",
    "This function is called `onethird` because as the value of $n$ gets bigger, the number get's closer to $\\frac{1}{3}$."
   ]
  },
  {
   "cell_type": "code",
   "execution_count": null,
   "metadata": {
    "deletable": false,
    "nbgrader": {
     "cell_type": "code",
     "checksum": "ab1dd4e1cc63c12e81522f98cbef0abe",
     "grade": false,
     "grade_id": "cell-ff8bbde91b0ff98b",
     "locked": false,
     "schema_version": 3,
     "solution": true,
     "task": false
    }
   },
   "outputs": [],
   "source": [
    "def onethird(n):\n",
    "    total = 0;\n",
    "    \n",
    "    for x in range(n+1):\n",
    "        total += (x**2)\n",
    "    return total/(n**3)\n",
    "\n"
   ]
  },
  {
   "cell_type": "code",
   "execution_count": null,
   "metadata": {},
   "outputs": [],
   "source": [
    "print(f\"Question #2 - Test Case #1 - \", 'Passed' if onethird(1) == 1.0 else 'Failed')\n",
    "print(f\"Question #2 - Test Case #2 -\", 'Passed' if round(onethird(3), 6) == 0.518519 else 'Failed')\n",
    "print(f\"Question #2 - Test Case #3 - \", 'Passed' if round(onethird(5), 6) == 0.44 else 'Failed')"
   ]
  },
  {
   "cell_type": "code",
   "execution_count": null,
   "metadata": {
    "deletable": false,
    "editable": false,
    "nbgrader": {
     "cell_type": "code",
     "checksum": "0dd720e3d1798a15ccb1b04cd42e876e",
     "grade": true,
     "grade_id": "cell-e69a3b80d912e931",
     "locked": true,
     "points": 1,
     "schema_version": 3,
     "solution": false,
     "task": false
    }
   },
   "outputs": [],
   "source": []
  },
  {
   "cell_type": "code",
   "execution_count": null,
   "metadata": {
    "deletable": false,
    "editable": false,
    "nbgrader": {
     "cell_type": "code",
     "checksum": "43dedab8af4465a394a5f24905d0b3cc",
     "grade": true,
     "grade_id": "cell-f2af5a0dd2983af5",
     "locked": true,
     "points": 1,
     "schema_version": 3,
     "solution": false,
     "task": false
    }
   },
   "outputs": [],
   "source": []
  },
  {
   "cell_type": "code",
   "execution_count": null,
   "metadata": {
    "deletable": false,
    "editable": false,
    "nbgrader": {
     "cell_type": "code",
     "checksum": "0a13aea309057dbadcd7b3d388d6c66a",
     "grade": true,
     "grade_id": "cell-07711f7153b95ed0",
     "locked": true,
     "points": 1,
     "schema_version": 3,
     "solution": false,
     "task": false
    }
   },
   "outputs": [],
   "source": []
  },
  {
   "cell_type": "code",
   "execution_count": null,
   "metadata": {
    "deletable": false,
    "editable": false,
    "nbgrader": {
     "cell_type": "code",
     "checksum": "98b64a499e560a5fa5f139fd60d8a64e",
     "grade": true,
     "grade_id": "cell-d73f461da57e7cd0",
     "locked": true,
     "points": 1,
     "schema_version": 3,
     "solution": false,
     "task": false
    }
   },
   "outputs": [],
   "source": []
  },
  {
   "cell_type": "markdown",
   "metadata": {
    "deletable": false,
    "editable": false,
    "nbgrader": {
     "cell_type": "markdown",
     "checksum": "1aa98d3dd5445c84bc5dd92f5f21f28c",
     "grade": false,
     "grade_id": "cell-7a186097bfad5776",
     "locked": true,
     "schema_version": 3,
     "solution": false,
     "task": false
    }
   },
   "source": [
    "## Question 3a: Pacman Players (4 points)\n",
    "\n",
    "Inky, Blinky, Pinky, and Clyde are the ghosts of Pacman, and they love to play their own video game! The issue is, who gets to play when? Well, let's make some rules and determine who plays the game on what day using Python!\n",
    "\n",
    "- Everyday, there will only ever be 1 player of the game.\n",
    "- Inky gets to play on any day beginning with the letter \"T\".\n",
    "- Blinky gets to play on any day that comes **after** another day beginning with the letter \"S\".\n",
    "- Pinky will **always** play on a day that is a multiple of 4, regardless of the other rules.\n",
    "- Clyde isn't very picky, so he agreed to play on days where no one else is allowed to play the game.\n",
    "\n",
    "Your job is to write a function `pacman` that takes in the day of the week as a string, and the day of the month as an integer, and return the name of the player that plays the game. All player names should be capitalized."
   ]
  },
  {
   "cell_type": "code",
   "execution_count": null,
   "metadata": {
    "deletable": false,
    "nbgrader": {
     "cell_type": "code",
     "checksum": "6843e68a11dbeea9ee181c5087e91ec1",
     "grade": false,
     "grade_id": "cell-9d4a978b3558b409",
     "locked": false,
     "schema_version": 3,
     "solution": true,
     "task": false
    }
   },
   "outputs": [],
   "source": [
    "def pacman(dayOfWeek, dayOfMonth):\n",
    "    week = [\"Sunday\", \"Monday\", \"Tuesday\", \"Wednesday\", \"Thursday\", \"Friday\", \"Saturday\"]\n",
    "    \n",
    "    if(dayOfMonth%4 == 0):\n",
    "        return \"Pinky\"\n",
    "    \n",
    "    elif(dayOfWeek[0] == 'T'):\n",
    "        return \"Inky\"\n",
    "    \n",
    "    elif(week[week.index(dayOfWeek)-1][0] == 'S'):\n",
    "        return \"Blinky\"\n",
    "    \n",
    "    else:\n",
    "        return \"Clyde\"\n",
    "\n"
   ]
  },
  {
   "cell_type": "code",
   "execution_count": null,
   "metadata": {},
   "outputs": [],
   "source": [
    "print(f\"Question #3a - Test Case #1 - \",\n",
    "      'Passed' if pacman(\"Sunday\", 31) == \"Blinky\" else 'Failed')\n",
    "print(f\"Question #3a - Test Case #2 -\",\n",
    "      'Passed' if pacman(\"Wednesday\", 28) == \"Pinky\" else 'Failed')\n",
    "print(f\"Question #3a - Test Case #3 - \",\n",
    "      'Passed' if pacman(\"Friday\", 15) == \"Clyde\" else 'Failed')"
   ]
  },
  {
   "cell_type": "code",
   "execution_count": null,
   "metadata": {
    "deletable": false,
    "editable": false,
    "nbgrader": {
     "cell_type": "code",
     "checksum": "09ea3d036111df6642e8571e09c6d8a3",
     "grade": true,
     "grade_id": "cell-cdff5bdb87f5e6c5",
     "locked": true,
     "points": 1,
     "schema_version": 3,
     "solution": false,
     "task": false
    }
   },
   "outputs": [],
   "source": []
  },
  {
   "cell_type": "code",
   "execution_count": null,
   "metadata": {
    "deletable": false,
    "editable": false,
    "nbgrader": {
     "cell_type": "code",
     "checksum": "c15b1fbfe85e31cc94c4fbf54a88c39b",
     "grade": true,
     "grade_id": "cell-53f5d08e88e593b7",
     "locked": true,
     "points": 1,
     "schema_version": 3,
     "solution": false,
     "task": false
    }
   },
   "outputs": [],
   "source": []
  },
  {
   "cell_type": "code",
   "execution_count": null,
   "metadata": {
    "deletable": false,
    "editable": false,
    "nbgrader": {
     "cell_type": "code",
     "checksum": "1caa82011f1c1757dc8df581afa4bb2d",
     "grade": true,
     "grade_id": "cell-0a923f901db775f1",
     "locked": true,
     "points": 1,
     "schema_version": 3,
     "solution": false,
     "task": false
    }
   },
   "outputs": [],
   "source": []
  },
  {
   "cell_type": "code",
   "execution_count": null,
   "metadata": {
    "deletable": false,
    "editable": false,
    "nbgrader": {
     "cell_type": "code",
     "checksum": "e5d94f663fba7105d6fd665abd57d364",
     "grade": true,
     "grade_id": "cell-6bdd1b04881ddf58",
     "locked": true,
     "points": 1,
     "schema_version": 3,
     "solution": false,
     "task": false
    }
   },
   "outputs": [],
   "source": []
  },
  {
   "cell_type": "markdown",
   "metadata": {
    "deletable": false,
    "editable": false,
    "nbgrader": {
     "cell_type": "markdown",
     "checksum": "ae91494feee92c1f4ef3c17ad3456b5b",
     "grade": false,
     "grade_id": "cell-f01e27b47ad8ce08",
     "locked": true,
     "schema_version": 3,
     "solution": false,
     "task": false
    }
   },
   "source": [
    "## Question 3b: Concerned Ghosts (4 points)\n",
    "\n",
    "Uh oh, looks like Blinky is concerned about how often everyone gets to play the game. He wants to know who gets to play the most games in a month!\n",
    "\n",
    "Write a function `playCount` that takes in a starting day as a string, and how many days are in the month as an integer. The function returns a `tuple` of 4 values: How many times Inky played, how many times Blinky played, how many times Pinky played, and how many times Clyde played. `(Inky, Blinky, Pinky, Clyde)`\n",
    "\n",
    "We have provided you the function `incDay` that will increment the day of the week by 1. Use it wisely!"
   ]
  },
  {
   "cell_type": "code",
   "execution_count": null,
   "metadata": {
    "deletable": false,
    "nbgrader": {
     "cell_type": "code",
     "checksum": "65d233b6802bcb6be2332a60b98ff592",
     "grade": false,
     "grade_id": "cell-eb414ed36b5a91f2",
     "locked": false,
     "schema_version": 3,
     "solution": true,
     "task": false
    }
   },
   "outputs": [],
   "source": [
    "def incDay(day):\n",
    "    daysOfWeek = [\n",
    "        \"Sunday\",\n",
    "        \"Monday\",\n",
    "        \"Tuesday\",\n",
    "        \"Wednesday\",\n",
    "        \"Thursday\",\n",
    "        \"Friday\",\n",
    "        \"Saturday\"\n",
    "    ]\n",
    "\n",
    "    return daysOfWeek[(daysOfWeek.index(day) + 1) % len(daysOfWeek)]\n",
    "\n",
    "\n",
    "def playCount(startingDay, daysInMonth):\n",
    "    Inky_count = 0;\n",
    "    Blinky_count = 0;\n",
    "    Pinky_count = 0;\n",
    "    Clyde_count = 0;\n",
    "    current_player = \"\";\n",
    "    day = 1;\n",
    "    \n",
    "    while(day <= daysInMonth): \n",
    "        current_player = pacman(startingDay, day)\n",
    "        \n",
    "        if(current_player == \"Inky\"):\n",
    "            Inky_count+=1\n",
    "        \n",
    "        elif(current_player == \"Blinky\"):\n",
    "            Blinky_count+=1\n",
    "            \n",
    "        elif(current_player == \"Pinky\"):\n",
    "            Pinky_count+=1\n",
    "\n",
    "        else:\n",
    "            Clyde_count+=1\n",
    "        \n",
    "        day+=1\n",
    "        startingDay = incDay(startingDay)\n",
    "        \n",
    "    return (Inky_count, Blinky_count, Pinky_count, Clyde_count)\n",
    "\n"
   ]
  },
  {
   "cell_type": "code",
   "execution_count": null,
   "metadata": {},
   "outputs": [],
   "source": [
    "print(f\"Question #3b - Test Case #1 - \",\n",
    "      'Passed' if playCount(\"Sunday\", 31) == (7, 8, 7, 9) else 'Failed')\n",
    "print(f\"Question #3b - Test Case #2 -\",\n",
    "      'Passed' if playCount(\"Wednesday\", 30) == (7, 6, 7, 10) else 'Failed')\n",
    "print(f\"Question #3b - Test Case #3 - \",\n",
    "      'Passed' if playCount(\"Wednesday\", 0) == (0, 0, 0, 0) else 'Failed')"
   ]
  },
  {
   "cell_type": "code",
   "execution_count": null,
   "metadata": {
    "deletable": false,
    "editable": false,
    "nbgrader": {
     "cell_type": "code",
     "checksum": "6d994299a2ef289869ec5d0ca9515b02",
     "grade": true,
     "grade_id": "cell-b41007ed5e883ef6",
     "locked": true,
     "points": 1,
     "schema_version": 3,
     "solution": false,
     "task": false
    }
   },
   "outputs": [],
   "source": []
  },
  {
   "cell_type": "code",
   "execution_count": null,
   "metadata": {
    "deletable": false,
    "editable": false,
    "nbgrader": {
     "cell_type": "code",
     "checksum": "9edd38977d7470fcdda56afe3112cd60",
     "grade": true,
     "grade_id": "cell-6ac366b8558b588b",
     "locked": true,
     "points": 1,
     "schema_version": 3,
     "solution": false,
     "task": false
    }
   },
   "outputs": [],
   "source": []
  },
  {
   "cell_type": "code",
   "execution_count": null,
   "metadata": {
    "deletable": false,
    "editable": false,
    "nbgrader": {
     "cell_type": "code",
     "checksum": "0f8b668fb3cf4b1c80c1011b82360e74",
     "grade": true,
     "grade_id": "cell-10fd406654ad285f",
     "locked": true,
     "points": 1,
     "schema_version": 3,
     "solution": false,
     "task": false
    }
   },
   "outputs": [],
   "source": []
  },
  {
   "cell_type": "code",
   "execution_count": null,
   "metadata": {
    "deletable": false,
    "editable": false,
    "nbgrader": {
     "cell_type": "code",
     "checksum": "701c994ed46e598f183515a7e00fa700",
     "grade": true,
     "grade_id": "cell-b8059b655f3f1123",
     "locked": true,
     "points": 1,
     "schema_version": 3,
     "solution": false,
     "task": false
    }
   },
   "outputs": [],
   "source": []
  },
  {
   "cell_type": "markdown",
   "metadata": {
    "deletable": false,
    "editable": false,
    "nbgrader": {
     "cell_type": "markdown",
     "checksum": "84915feb665676068af11f32354bf965",
     "grade": false,
     "grade_id": "cell-c7c8b4fe1fee9d6d",
     "locked": true,
     "schema_version": 3,
     "solution": false,
     "task": false
    }
   },
   "source": [
    "## Question 3c: And the winner is...! (1 point)\n",
    "\n",
    "Now armed with the knowledge of the rules and the function you just coded, tell me this: Who actually gets to play the game the most in a month?"
   ]
  },
  {
   "cell_type": "code",
   "execution_count": null,
   "metadata": {
    "deletable": false,
    "nbgrader": {
     "cell_type": "code",
     "checksum": "3aedd2538ab8a0edce80dfb1b182f7e9",
     "grade": false,
     "grade_id": "cell-7e22e55feed1b334",
     "locked": false,
     "schema_version": 3,
     "solution": true,
     "task": false
    }
   },
   "outputs": [],
   "source": [
    "def question3c():\n",
    "    # uncomment the correct answer!\n",
    "    # ans = \"Inky\"\n",
    "    # ans = \"Blinky\"\n",
    "    # ans = \"Pinky\"\n",
    "    ans = \"Clyde\"\n",
    "    return ans\n",
    "\n"
   ]
  },
  {
   "cell_type": "code",
   "execution_count": null,
   "metadata": {
    "deletable": false,
    "editable": false,
    "nbgrader": {
     "cell_type": "code",
     "checksum": "6bbc2a0b1a2e20ecda7801ac9191eb07",
     "grade": true,
     "grade_id": "cell-9573fae762ac10cc",
     "locked": true,
     "points": 1,
     "schema_version": 3,
     "solution": false,
     "task": false
    }
   },
   "outputs": [],
   "source": []
  },
  {
   "cell_type": "markdown",
   "metadata": {
    "deletable": false,
    "editable": false,
    "nbgrader": {
     "cell_type": "markdown",
     "checksum": "20fa675ab6fff428351190a2efe917b9",
     "grade": false,
     "grade_id": "cell-45e035dcae028380",
     "locked": true,
     "schema_version": 3,
     "solution": false,
     "task": false
    }
   },
   "source": [
    "## Question 4a: The letter Grade (2 points)\n",
    "\n",
    "The fictional school of \"Perfectonia\" has a new grade system that they think is better than the old one. The new system is as follows:\n",
    "\n",
    "- A: Scores of 95% or above\n",
    "- B: Scores of 85% or above\n",
    "- C: Scores of 60% or above\n",
    "- D: Scores of 40% or above\n",
    "- F: Everything else is a failure in their eyes\n",
    "\n",
    "Write a function `letterGrade` that takes in a number `score` and returns the letter grade as a string."
   ]
  },
  {
   "cell_type": "code",
   "execution_count": null,
   "metadata": {
    "deletable": false,
    "nbgrader": {
     "cell_type": "code",
     "checksum": "85e98936b2a4ffe42c25240438e5e67b",
     "grade": false,
     "grade_id": "cell-7c9b4ef462f7732c",
     "locked": false,
     "schema_version": 3,
     "solution": true,
     "task": false
    }
   },
   "outputs": [],
   "source": [
    "def letterGrade(score):\n",
    "    if(score >= 95):\n",
    "        return 'A'\n",
    "    elif(score >= 85):\n",
    "        return 'B'\n",
    "    elif(score >= 60):\n",
    "        return 'C'\n",
    "    elif(score >= 40):\n",
    "        return 'D'\n",
    "    else:\n",
    "        return 'F'\n",
    "\n"
   ]
  },
  {
   "cell_type": "code",
   "execution_count": null,
   "metadata": {},
   "outputs": [],
   "source": [
    "print(f\"Question #4a - Test Case #1 - \",\n",
    "      'Passed' if letterGrade(31) == 'F' else 'Failed')\n",
    "print(f\"Question #4a - Test Case #2 -\",\n",
    "      'Passed' if letterGrade(50) == 'D' else 'Failed')\n",
    "print(f\"Question #4a - Test Case #3 - \",\n",
    "      'Passed' if letterGrade(100) == 'A' else 'Failed')"
   ]
  },
  {
   "cell_type": "code",
   "execution_count": null,
   "metadata": {
    "deletable": false,
    "editable": false,
    "nbgrader": {
     "cell_type": "code",
     "checksum": "f2f1c6e90bc03f923b7a56b67d546332",
     "grade": true,
     "grade_id": "cell-f5b4d75a441d7227",
     "locked": true,
     "points": 1,
     "schema_version": 3,
     "solution": false,
     "task": false
    }
   },
   "outputs": [],
   "source": []
  },
  {
   "cell_type": "code",
   "execution_count": null,
   "metadata": {
    "deletable": false,
    "editable": false,
    "nbgrader": {
     "cell_type": "code",
     "checksum": "f26f435a7164282a38f08094502d4aaf",
     "grade": true,
     "grade_id": "cell-17d5a25f1b761a3b",
     "locked": true,
     "points": 0.5,
     "schema_version": 3,
     "solution": false,
     "task": false
    }
   },
   "outputs": [],
   "source": []
  },
  {
   "cell_type": "code",
   "execution_count": null,
   "metadata": {
    "deletable": false,
    "editable": false,
    "nbgrader": {
     "cell_type": "code",
     "checksum": "f3d8cea52adf9bc49f6040feda9d4dda",
     "grade": true,
     "grade_id": "cell-53baf19b32591ca0",
     "locked": true,
     "points": 0.5,
     "schema_version": 3,
     "solution": false,
     "task": false
    }
   },
   "outputs": [],
   "source": []
  },
  {
   "cell_type": "markdown",
   "metadata": {
    "deletable": false,
    "editable": false,
    "nbgrader": {
     "cell_type": "markdown",
     "checksum": "e43cb74765389ea8a3de73fd7bdc58ce",
     "grade": false,
     "grade_id": "cell-b93d3693d40809a2",
     "locked": true,
     "schema_version": 3,
     "solution": false,
     "task": false
    }
   },
   "source": [
    "## Question 4b: Triple Letter Grade (2 points)\n",
    "\n",
    "An instructor decided to make groups of 3, and hands out their marks as a 3 letter word. Each letter is a group member's letter grade.\n",
    "\n",
    "Write a function `tripleLetterGrade` that takes in the numbers `student1`, `student2`, and `student3`, and returns the 3 letter grade for the group as a string."
   ]
  },
  {
   "cell_type": "code",
   "execution_count": null,
   "metadata": {
    "deletable": false,
    "nbgrader": {
     "cell_type": "code",
     "checksum": "29fdd0d1503769bd55a335019cb02449",
     "grade": false,
     "grade_id": "cell-692fb06ecbbe7aaa",
     "locked": false,
     "schema_version": 3,
     "solution": true,
     "task": false
    }
   },
   "outputs": [],
   "source": [
    "def tripleLetterGrade(student1, student2, student3):\n",
    "    return letterGrade(student1) + letterGrade(student2) + letterGrade(student3)\n"
   ]
  },
  {
   "cell_type": "code",
   "execution_count": null,
   "metadata": {},
   "outputs": [],
   "source": [
    "print(f\"Question #4b - Test Case #1 - \",\n",
    "      'Passed' if tripleLetterGrade(88, 99, 55) == 'BAD' else 'Failed')\n",
    "print(f\"Question #4b - Test Case #2 -\",\n",
    "      'Passed' if tripleLetterGrade(45, 96, 88) == 'DAB' else 'Failed')\n",
    "print(f\"Question #4b - Test Case #3 - \",\n",
    "      'Passed' if tripleLetterGrade(89, 29, 10) == 'BFF' else 'Failed')"
   ]
  },
  {
   "cell_type": "code",
   "execution_count": null,
   "metadata": {
    "deletable": false,
    "editable": false,
    "nbgrader": {
     "cell_type": "code",
     "checksum": "0d3ab2911ecff410c195437c275924ee",
     "grade": true,
     "grade_id": "cell-b8a7c6790b89d51e",
     "locked": true,
     "points": 1,
     "schema_version": 3,
     "solution": false,
     "task": false
    }
   },
   "outputs": [],
   "source": []
  },
  {
   "cell_type": "code",
   "execution_count": null,
   "metadata": {
    "deletable": false,
    "editable": false,
    "nbgrader": {
     "cell_type": "code",
     "checksum": "8beb332cf24a1b08504a1a9b5335692a",
     "grade": true,
     "grade_id": "cell-599b894b0b4fe201",
     "locked": true,
     "points": 1,
     "schema_version": 3,
     "solution": false,
     "task": false
    }
   },
   "outputs": [],
   "source": []
  },
  {
   "cell_type": "markdown",
   "metadata": {
    "deletable": false,
    "editable": false,
    "nbgrader": {
     "cell_type": "markdown",
     "checksum": "0d6483763ed0ba60f5ae6c2487a793f4",
     "grade": false,
     "grade_id": "cell-67486456f4232df6",
     "locked": true,
     "schema_version": 3,
     "solution": false,
     "task": false
    }
   },
   "source": [
    "## Question 5: Snergle Population Tracking (4 points)\n",
    "\n",
    "The Snergle is an invasive species that used to occupy the planet Grebulon. Now, they are being introduced to forest on the planet Earth. It has been discovered that the Snergle reproduce quite rapidly and uniquely.\n",
    "\n",
    "- Snergles, much like lobsters, don't die of old age. They do however lose their lives in child birth.\n",
    "- A Snergle will birth 2 children every week, except when there is a full moon. When there is a full moon, the Snergle produces 3 children.\n",
    "- When a Snergle is born, they immediately to grow to adulthood. This means that they will be ready to reproduce for the next cycle.\n",
    "\n",
    "Write a Python function `snergle` that takes in the initial population of Snergles, the number of weeks to simulate, and how many weeks until the next full moon. This function returns a `tuple` that contains the Snergle population every week until the simulation is complete.\n",
    "\n",
    "The full moon will occur once a month, and the number of weeks until the next full moon will be provided as an integer. When `weeksUntilFullMoon` is 0, that means it is a full moon this week. Then next week, there is 3 weeks to the next full moon."
   ]
  },
  {
   "cell_type": "code",
   "execution_count": null,
   "metadata": {
    "deletable": false,
    "nbgrader": {
     "cell_type": "code",
     "checksum": "339c18b784e2a098c39c65b5f93af139",
     "grade": false,
     "grade_id": "cell-9625666eb90a4947",
     "locked": false,
     "schema_version": 3,
     "solution": true,
     "task": false
    }
   },
   "outputs": [],
   "source": [
    "def snergle(initial, weeksToSimulate, weeksUntilFullMoon):\n",
    "    population = [];\n",
    "    counter = weeksUntilFullMoon;\n",
    "\n",
    "    while(weeksToSimulate > 0):\n",
    "        if(counter == 0):\n",
    "            initial *= 3\n",
    "            counter = 3\n",
    "        else:\n",
    "            initial *= 2 \n",
    "            counter -= 1   \n",
    "            \n",
    "        weeksToSimulate -= 1\n",
    "        population.append(initial)\n",
    "\n",
    "    return tuple(population)\n"
   ]
  },
  {
   "cell_type": "code",
   "execution_count": null,
   "metadata": {},
   "outputs": [],
   "source": [
    "# Your Provided Sample Test Cases\n",
    "print(\"Question #5 - Test Case #1 - \", 'Passed' if snergle(3, 4, 2) == (6, 12, 36, 72) else 'Failed')\n",
    "print(\"Question #5 - Test Case #2 - \", 'Passed' if snergle(1, 8, 0)\n",
    "      == (3, 6, 12, 24, 72, 144, 288, 576) else 'Failed')"
   ]
  },
  {
   "cell_type": "code",
   "execution_count": null,
   "metadata": {
    "deletable": false,
    "editable": false,
    "nbgrader": {
     "cell_type": "code",
     "checksum": "c0e623d2ee8720b9b99452f7867b8e33",
     "grade": true,
     "grade_id": "cell-c12e4dade1bc2081",
     "locked": true,
     "points": 1,
     "schema_version": 3,
     "solution": false,
     "task": false
    }
   },
   "outputs": [],
   "source": []
  },
  {
   "cell_type": "code",
   "execution_count": null,
   "metadata": {
    "deletable": false,
    "editable": false,
    "nbgrader": {
     "cell_type": "code",
     "checksum": "00d3fb0f799e479fa2238e5f15792163",
     "grade": true,
     "grade_id": "cell-be16ee99c7becccb",
     "locked": true,
     "points": 1,
     "schema_version": 3,
     "solution": false,
     "task": false
    }
   },
   "outputs": [],
   "source": []
  },
  {
   "cell_type": "code",
   "execution_count": null,
   "metadata": {
    "deletable": false,
    "editable": false,
    "nbgrader": {
     "cell_type": "code",
     "checksum": "4a3b9f181f4007effffc24d4d4faf63d",
     "grade": true,
     "grade_id": "cell-026cc0298dc292b6",
     "locked": true,
     "points": 1,
     "schema_version": 3,
     "solution": false,
     "task": false
    }
   },
   "outputs": [],
   "source": []
  },
  {
   "cell_type": "code",
   "execution_count": null,
   "metadata": {
    "deletable": false,
    "editable": false,
    "nbgrader": {
     "cell_type": "code",
     "checksum": "f0e6a3536695a9a5ebcbe71db2e34603",
     "grade": true,
     "grade_id": "cell-3c1520fdc57c3749",
     "locked": true,
     "points": 1,
     "schema_version": 3,
     "solution": false,
     "task": false
    }
   },
   "outputs": [],
   "source": []
  },
  {
   "cell_type": "markdown",
   "metadata": {
    "deletable": false,
    "editable": false,
    "nbgrader": {
     "cell_type": "markdown",
     "checksum": "724ce672abe4c58e3c39ff3b630a3317",
     "grade": false,
     "grade_id": "cell-f00f7c34882f939b",
     "locked": true,
     "schema_version": 3,
     "solution": false,
     "task": false
    }
   },
   "source": [
    "## Question 6: Sum of the Multiples (3 points)\n",
    "\n",
    "Write a function `multipleSum` that takes in `N`, `x`, and `y` that adds all the numbers between 0 and N (inclusive) that are multiples or `x`, and/or `y`.\n",
    "\n",
    "Example:\n",
    "\n",
    "$$ N = 10, x = 2, y = 3 $$\n",
    "$$ s = 2 + 3 + 4 + 6 + 8 + 9 + 10 = 42 $$"
   ]
  },
  {
   "cell_type": "code",
   "execution_count": null,
   "metadata": {
    "deletable": false,
    "nbgrader": {
     "cell_type": "code",
     "checksum": "546e4014f6468bee1464867a6f8f66df",
     "grade": false,
     "grade_id": "cell-a2423bf2340ea0ba",
     "locked": false,
     "schema_version": 3,
     "solution": true,
     "task": false
    }
   },
   "outputs": [],
   "source": [
    "def multipleSum(N, x, y):\n",
    "    total = 0;\n",
    "    \n",
    "    for i in range(N+1):\n",
    "        if( (i%x) == 0):\n",
    "            total += i\n",
    "            \n",
    "        elif( (i%y) == 0):\n",
    "            total += i\n",
    "            \n",
    "    return total\n",
    "\n"
   ]
  },
  {
   "cell_type": "code",
   "execution_count": null,
   "metadata": {},
   "outputs": [],
   "source": [
    "print(\"Question #6 - Test Case #1 - \",\n",
    "      'Passed' if multipleSum(10, 2, 3) == 42 else 'Failed')\n",
    "print(\"Question #6 - Test Case #2 - \",\n",
    "      'Passed' if multipleSum(25, 7, 8) == 90 else 'Failed')\n",
    "print(\"Question #6 - Test Case #3 - \",\n",
    "      'Passed' if multipleSum(15, 1, 12) == 120 else 'Failed')"
   ]
  },
  {
   "cell_type": "code",
   "execution_count": null,
   "metadata": {
    "deletable": false,
    "editable": false,
    "nbgrader": {
     "cell_type": "code",
     "checksum": "38c3d113a61bf565449cd6cde39b78e8",
     "grade": true,
     "grade_id": "cell-5e32b7710a1be84d",
     "locked": true,
     "points": 1,
     "schema_version": 3,
     "solution": false,
     "task": false
    }
   },
   "outputs": [],
   "source": []
  },
  {
   "cell_type": "code",
   "execution_count": null,
   "metadata": {
    "deletable": false,
    "editable": false,
    "nbgrader": {
     "cell_type": "code",
     "checksum": "6c1258e19dfaf20a5ee174d9ea639150",
     "grade": true,
     "grade_id": "cell-e018ae8ae9cc8dde",
     "locked": true,
     "points": 1,
     "schema_version": 3,
     "solution": false,
     "task": false
    }
   },
   "outputs": [],
   "source": []
  },
  {
   "cell_type": "code",
   "execution_count": null,
   "metadata": {
    "deletable": false,
    "editable": false,
    "nbgrader": {
     "cell_type": "code",
     "checksum": "6709c04505e958a5406a2cebe4ee1df9",
     "grade": true,
     "grade_id": "cell-7b40c4c165aec474",
     "locked": true,
     "points": 1,
     "schema_version": 3,
     "solution": false,
     "task": false
    }
   },
   "outputs": [],
   "source": []
  },
  {
   "cell_type": "markdown",
   "metadata": {
    "deletable": false,
    "editable": false,
    "nbgrader": {
     "cell_type": "markdown",
     "checksum": "c1be1c9cc5b1256dd3f8369ad0c86b88",
     "grade": false,
     "grade_id": "cell-da8a7617f6d8f466",
     "locked": true,
     "schema_version": 3,
     "solution": false,
     "task": false
    }
   },
   "source": [
    "## Question 7: Forming Plural (3 points)\n",
    "\n",
    "Create a Python function `pluralize` that returns the plural of a word given the following rules:\n",
    "\n",
    "- If the word ends with `s` or `h`, add `es` to the end.\n",
    "- If the word ends with a `y`, change it to `ies` __unless if the letter before is a vowel__.\n",
    "- Otherwise, just add an `s` to the end of the word.\n",
    "\n",
    "You may assume that the last letter of the word is lowercase."
   ]
  },
  {
   "cell_type": "code",
   "execution_count": null,
   "metadata": {
    "deletable": false,
    "nbgrader": {
     "cell_type": "code",
     "checksum": "d00368eab9e28110130d73a193df56f4",
     "grade": false,
     "grade_id": "cell-47c95065294ec876",
     "locked": false,
     "schema_version": 3,
     "solution": true,
     "task": false
    }
   },
   "outputs": [],
   "source": [
    "def pluralize(word):\n",
    "    vowels = \"aeiou\"\n",
    "    \n",
    "    if( (word[-1] == \"s\") or (word[-1] == \"h\") ):\n",
    "        return (word + 'es')\n",
    "    \n",
    "    elif( (word[-1] == \"y\") and (word[-2] not in vowels) ):\n",
    "        return (word[:-1] + 'ies')\n",
    "    \n",
    "    else:\n",
    "        return (word + 's') \n",
    "\n"
   ]
  },
  {
   "cell_type": "code",
   "execution_count": null,
   "metadata": {
    "deletable": false,
    "editable": false,
    "nbgrader": {
     "cell_type": "code",
     "checksum": "200e30dbdde0cf5cdcdea05eaad8305b",
     "grade": false,
     "grade_id": "cell-e2d76e36e28e2a4e",
     "locked": true,
     "schema_version": 3,
     "solution": false,
     "task": false
    }
   },
   "outputs": [],
   "source": [
    "print(\"Question #7 - Test Case #1 - \",\n",
    "      'Passed' if pluralize(\"Noun\") == \"Nouns\" else 'Failed')\n",
    "print(\"Question #7 - Test Case #2 - \",\n",
    "      'Passed' if pluralize(\"key\") == \"keys\" else 'Failed')"
   ]
  },
  {
   "cell_type": "code",
   "execution_count": null,
   "metadata": {
    "deletable": false,
    "editable": false,
    "nbgrader": {
     "cell_type": "code",
     "checksum": "eff92db3d1fd5d42d01fa6e2b8e1e92a",
     "grade": true,
     "grade_id": "cell-ba35f94bd5f12f28",
     "locked": true,
     "points": 1,
     "schema_version": 3,
     "solution": false,
     "task": false
    }
   },
   "outputs": [],
   "source": []
  },
  {
   "cell_type": "code",
   "execution_count": null,
   "metadata": {
    "deletable": false,
    "editable": false,
    "nbgrader": {
     "cell_type": "code",
     "checksum": "4d6c59aa0f05a5aeaed95c600d3cc737",
     "grade": true,
     "grade_id": "cell-f0d3d215aa1a3789",
     "locked": true,
     "points": 1,
     "schema_version": 3,
     "solution": false,
     "task": false
    }
   },
   "outputs": [],
   "source": []
  },
  {
   "cell_type": "code",
   "execution_count": null,
   "metadata": {
    "deletable": false,
    "editable": false,
    "nbgrader": {
     "cell_type": "code",
     "checksum": "70ef8dcb04cd89b916b84312fec8e9ee",
     "grade": true,
     "grade_id": "cell-6908ecc6dceb5b43",
     "locked": true,
     "points": 1,
     "schema_version": 3,
     "solution": false,
     "task": false
    }
   },
   "outputs": [],
   "source": []
  },
  {
   "cell_type": "markdown",
   "metadata": {
    "deletable": false,
    "editable": false,
    "nbgrader": {
     "cell_type": "markdown",
     "checksum": "a9b4e15b024a4e8a006f8082f8055e74",
     "grade": false,
     "grade_id": "cell-f3d9a7828fcb068e",
     "locked": true,
     "schema_version": 3,
     "solution": false,
     "task": false
    }
   },
   "source": [
    "## Bonus: Boring Strings (4 points)\n",
    "\n",
    "We will say that a string is **boring** if the same sequence of three characters appears more than once in the string.  For example, the following string is boring:\n",
    "\n",
    "- `JONATHON LIKES PYTHON`\n",
    "\n",
    "But these strings are not boring:\n",
    "\n",
    "- `ALICE LIKES PYTHON`\n",
    "- `I HEAR THE ART`\n",
    "\n",
    "Write a program that determines if a given string is boring.  You can assume that the string only contains upper-case letters and spaces. No numbers, punctuation, or special characters.\n",
    "\n",
    "**Hint:** Look into how certain languages implement Caches. GoLang Cache implementations are my go to regarding this problem."
   ]
  },
  {
   "cell_type": "code",
   "execution_count": null,
   "metadata": {
    "deletable": false,
    "nbgrader": {
     "cell_type": "code",
     "checksum": "fe691ac83f2ef976d4be38cf51127c17",
     "grade": false,
     "grade_id": "cell-a333ba657ff36b31",
     "locked": false,
     "schema_version": 3,
     "solution": true,
     "task": false
    }
   },
   "outputs": [],
   "source": [
    "def boring(string):\n",
    "    cache = [];\n",
    "    \n",
    "    for i in range(len(string)-2):\n",
    "        if( string[i:(i+3)] in cache):\n",
    "            return True\n",
    "        else:\n",
    "            cache.append(string[i:(i+3)])\n",
    "    return False\n"
   ]
  },
  {
   "cell_type": "code",
   "execution_count": null,
   "metadata": {},
   "outputs": [],
   "source": [
    "print(\"Bonus #1 - Test Case #1 -\", 'Passed' if boring('JONATHON LIKES PYTHON') else 'Failed')\n",
    "print(\"Bonus #1 - Test Case #2 -\", 'Passed' if not(boring('ALICE LIKES PYTHON')) else 'Failed')"
   ]
  },
  {
   "cell_type": "code",
   "execution_count": null,
   "metadata": {
    "deletable": false,
    "editable": false,
    "nbgrader": {
     "cell_type": "code",
     "checksum": "d64c16e9dae5b995bbe0ea317e820ff1",
     "grade": true,
     "grade_id": "cell-fdbc91b2d52551f4",
     "locked": true,
     "points": 1,
     "schema_version": 3,
     "solution": false,
     "task": false
    }
   },
   "outputs": [],
   "source": []
  },
  {
   "cell_type": "code",
   "execution_count": null,
   "metadata": {
    "deletable": false,
    "editable": false,
    "nbgrader": {
     "cell_type": "code",
     "checksum": "e220676705fc5d70b5e03b0950e9a548",
     "grade": true,
     "grade_id": "cell-7daaeede1c1714e9",
     "locked": true,
     "points": 1,
     "schema_version": 3,
     "solution": false,
     "task": false
    }
   },
   "outputs": [],
   "source": []
  },
  {
   "cell_type": "code",
   "execution_count": null,
   "metadata": {
    "deletable": false,
    "editable": false,
    "nbgrader": {
     "cell_type": "code",
     "checksum": "93f66e0d5a72b1dbb8e61aad07327cce",
     "grade": true,
     "grade_id": "cell-cc37695de8213732",
     "locked": true,
     "points": 1,
     "schema_version": 3,
     "solution": false,
     "task": false
    }
   },
   "outputs": [],
   "source": []
  },
  {
   "cell_type": "code",
   "execution_count": null,
   "metadata": {
    "deletable": false,
    "editable": false,
    "nbgrader": {
     "cell_type": "code",
     "checksum": "aedae558516721fc38ff0cfb44cd448b",
     "grade": true,
     "grade_id": "cell-ea0a23459e00eb97",
     "locked": true,
     "points": 1,
     "schema_version": 3,
     "solution": false,
     "task": false
    }
   },
   "outputs": [],
   "source": []
  },
  {
   "cell_type": "markdown",
   "metadata": {
    "deletable": false,
    "editable": false,
    "nbgrader": {
     "cell_type": "markdown",
     "checksum": "5dd7dfe207e3a4c6498d16df6c3ef246",
     "grade": false,
     "grade_id": "cell-b9228716dc2ce071",
     "locked": true,
     "schema_version": 3,
     "solution": false,
     "task": false
    }
   },
   "source": [
    "## Bonus Question 2: Chaotic Soldiers Problem (5 points)\n",
    "\n",
    "An army is lined up single-file, shoulder to shoulder facing forwards, towards their general. The general shouts \"turn \\*muffled\\*!\" so the soldiers turn 90-degrees randomly either to the left or right.\n",
    "\n",
    "Many of the soldiers are facing each other, and so all soldiers facing another soldier (`><`) pivot 180-degrees. This is one \"step.\" After this step, some soldiers are still facing eachother. On the next step, all soldiers facing each other (`><`) pivot 180-degrees once again. This continues repeatedly, until there no two soldiers are facing each other.\n",
    "\n",
    "Write a function `turn_count(army)` that, given the initial orientation of the soldiers as a string `army`, where `>` denotes a right-facing soldier and `<` denotes a left-facing soldier, returns the number(int) of steps it will take for all soldiers to be facing an acceptable direction\n",
    "that is, to have no soldiers left facing one another.\n",
    "\n",
    "For this problem, you may assume `0 < len(army) < 10000`. Please ensure your function runs in less than 10s for inputs up to this length.\n",
    "\n",
    "### Example\n",
    "\n",
    "Input: \"><><<><\"\n",
    "\n",
    "Output: 4\n",
    "\n",
    "Explanation:\n",
    "The orientation of the army at each step(including the first and last), is shown below:\n",
    "\n",
    "1. `>< >< < ><`\n",
    "2. `< >< >< < >`\n",
    "3. `<< >< >< >`\n",
    "4. `<<< >< >>`\n",
    "5. `<<<<>>>`\n"
   ]
  },
  {
   "cell_type": "code",
   "execution_count": null,
   "metadata": {
    "deletable": false,
    "nbgrader": {
     "cell_type": "code",
     "checksum": "8619cfe371f3601d40ef5ec6f94ead10",
     "grade": false,
     "grade_id": "cell-a9fcbbe5af51dfc4",
     "locked": false,
     "schema_version": 3,
     "solution": true,
     "task": false
    }
   },
   "outputs": [],
   "source": [
    "def turn_count(orientation):\n",
    "    counter = 0;\n",
    "    while(\"><\" in orientation):\n",
    "        orientation = orientation.replace('><','<>')\n",
    "        counter += 1\n",
    "        \n",
    "    return counter\n"
   ]
  },
  {
   "cell_type": "code",
   "execution_count": null,
   "metadata": {},
   "outputs": [],
   "source": [
    "print(\"Bonus #2 - Test Case #1 -\", 'Passed' if turn_count('><><') == 2 else 'Failed')\n",
    "print(\"Bonus #2 - Test Case #2 -\", 'Passed' if turn_count('><><<><') == 4 else 'Failed')\n",
    "print(\"Bonus #2 - Test Case #3 -\", 'Passed' if turn_count('>>><><<<><') == 7 else 'Failed')"
   ]
  },
  {
   "cell_type": "code",
   "execution_count": null,
   "metadata": {},
   "outputs": [],
   "source": [
    "# FOR YOUR OWN TEST CASES\n",
    "import random\n",
    "\n",
    "def generate_army(size: int) -> str:\n",
    "    \"\"\"\n",
    "    Returns a string of length size containing either < or >, which is randomly determined for each character.\n",
    "    Useful to generate large inputs.\n",
    "    \"\"\"\n",
    "    return ''.join([random.choice(['<', '>']) for _ in range(size)])\n",
    "\n",
    "# DESIGN YOUR TESTS HERE\n"
   ]
  },
  {
   "cell_type": "code",
   "execution_count": null,
   "metadata": {
    "deletable": false,
    "editable": false,
    "nbgrader": {
     "cell_type": "code",
     "checksum": "d642309c0094b4f041330d72c9173170",
     "grade": true,
     "grade_id": "cell-167dc6f16a22e008",
     "locked": true,
     "points": 0.5,
     "schema_version": 3,
     "solution": false,
     "task": false
    }
   },
   "outputs": [],
   "source": []
  },
  {
   "cell_type": "code",
   "execution_count": null,
   "metadata": {
    "deletable": false,
    "editable": false,
    "nbgrader": {
     "cell_type": "code",
     "checksum": "531dfeed5c471bc8bfcd4b332df138bb",
     "grade": true,
     "grade_id": "cell-cd05d8ec83e1af6b",
     "locked": true,
     "points": 0.5,
     "schema_version": 3,
     "solution": false,
     "task": false
    }
   },
   "outputs": [],
   "source": []
  },
  {
   "cell_type": "code",
   "execution_count": null,
   "metadata": {
    "deletable": false,
    "editable": false,
    "nbgrader": {
     "cell_type": "code",
     "checksum": "a2855b7206c90151bc591a1435e13e8d",
     "grade": true,
     "grade_id": "cell-e071e346002c4e77",
     "locked": true,
     "points": 1,
     "schema_version": 3,
     "solution": false,
     "task": false
    }
   },
   "outputs": [],
   "source": []
  },
  {
   "cell_type": "code",
   "execution_count": null,
   "metadata": {
    "deletable": false,
    "editable": false,
    "nbgrader": {
     "cell_type": "code",
     "checksum": "1d31967182d3da24292bf1e3c8bcd5e6",
     "grade": true,
     "grade_id": "cell-26da47d65b42a93e",
     "locked": true,
     "points": 1,
     "schema_version": 3,
     "solution": false,
     "task": false
    }
   },
   "outputs": [],
   "source": []
  },
  {
   "cell_type": "code",
   "execution_count": null,
   "metadata": {
    "deletable": false,
    "editable": false,
    "nbgrader": {
     "cell_type": "code",
     "checksum": "c638505e30f4449aa1b525c0771f5398",
     "grade": true,
     "grade_id": "cell-0501584a53c9b7d7",
     "locked": true,
     "points": 1,
     "schema_version": 3,
     "solution": false,
     "task": false
    }
   },
   "outputs": [],
   "source": []
  },
  {
   "cell_type": "code",
   "execution_count": null,
   "metadata": {
    "deletable": false,
    "editable": false,
    "nbgrader": {
     "cell_type": "code",
     "checksum": "3d9ad7842e9cdfdaeed70e14df122070",
     "grade": true,
     "grade_id": "cell-050ca3c349cd1597",
     "locked": true,
     "points": 1,
     "schema_version": 3,
     "solution": false,
     "task": false
    }
   },
   "outputs": [],
   "source": []
  }
 ],
 "metadata": {
  "kernelspec": {
   "display_name": "Python 3.9.12 ('base')",
   "language": "python",
   "name": "python3"
  },
  "language_info": {
   "codemirror_mode": {
    "name": "ipython",
    "version": 3
   },
   "file_extension": ".py",
   "mimetype": "text/x-python",
   "name": "python",
   "nbconvert_exporter": "python",
   "pygments_lexer": "ipython3",
   "version": "3.9.12"
  },
  "vscode": {
   "interpreter": {
    "hash": "74e8cc5548c2ba330e0b2a814347395565d98255b61d6c0758de63c16a009010"
   }
  }
 },
 "nbformat": 4,
 "nbformat_minor": 2
}
